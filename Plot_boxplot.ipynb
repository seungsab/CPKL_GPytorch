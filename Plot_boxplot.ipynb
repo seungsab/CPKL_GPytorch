{
 "cells": [
  {
   "cell_type": "code",
   "execution_count": null,
   "metadata": {},
   "outputs": [],
   "source": [
    "from copy import deepcopy\n",
    "\n",
    "import pandas as pd\n",
    "import torch\n",
    "import gpytorch\n",
    "import numpy as np\n",
    "from matplotlib import pyplot as plt\n",
    "\n",
    "torch.set_default_dtype(torch.float64)\n",
    "\n",
    "# plt.style.use(['dark_background', 'bmh'])\n",
    "plt.style.use(['seaborn-v0_8-whitegrid', 'bmh'])\n",
    "font = {'family' : 'monospace',\n",
    "        'weight' : 'bold',\n",
    "        'size'   : 12}\n",
    "plt.rc('font', **font)\n",
    "plt.rc('axes', facecolor='w')\n",
    "plt.rc('figure', facecolor='w')\n",
    "plt.rc('figure', figsize= (6, 3), dpi=150)\n",
    "\n",
    "import warnings\n",
    "warnings.filterwarnings('ignore')\n",
    "\n",
    "import os\n",
    "dir_fitted_result = './fitted_GPModels'\n",
    "os.makedirs(dir_fitted_result, exist_ok = True)\n",
    "\n",
    "dir_trainset = './trainset'\n",
    "os.makedirs(dir_trainset, exist_ok = True)"
   ]
  }
 ],
 "metadata": {
  "kernelspec": {
   "display_name": "CPKL_GPytorch",
   "language": "python",
   "name": "python3"
  },
  "language_info": {
   "name": "python",
   "version": "3.9.16"
  },
  "orig_nbformat": 4
 },
 "nbformat": 4,
 "nbformat_minor": 2
}
